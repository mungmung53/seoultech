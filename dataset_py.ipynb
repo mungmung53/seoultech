{
  "nbformat": 4,
  "nbformat_minor": 0,
  "metadata": {
    "colab": {
      "provenance": [],
      "mount_file_id": "1Pp_dLu76dmM-WDWmjLe-hGdr6HKZxnrU",
      "authorship_tag": "ABX9TyPFcq3QB2LCXQKog780C+BQ",
      "include_colab_link": true
    },
    "kernelspec": {
      "name": "python3",
      "display_name": "Python 3"
    },
    "language_info": {
      "name": "python"
    }
  },
  "cells": [
    {
      "cell_type": "markdown",
      "metadata": {
        "id": "view-in-github",
        "colab_type": "text"
      },
      "source": [
        "<a href=\"https://colab.research.google.com/github/mungmung53/seoultech/blob/main/dataset_py.ipynb\" target=\"_parent\"><img src=\"https://colab.research.google.com/assets/colab-badge.svg\" alt=\"Open In Colab\"/></a>"
      ]
    },
    {
      "cell_type": "code",
      "source": [
        "!pip install torch torchvision"
      ],
      "metadata": {
        "id": "ZMKUIgi8WVQc"
      },
      "execution_count": null,
      "outputs": []
    },
    {
      "cell_type": "code",
      "source": [
        "import os\n",
        "from PIL import Image\n",
        "from torch.utils.data import Dataset\n",
        "from torchvision import transforms\n",
        "\n",
        "class MNIST(Dataset):\n",
        "    \"\"\" MNIST dataset\n",
        "    Args:\n",
        "        data_dir: directory path containing images\n",
        "    Note:\n",
        "        Each image should be preprocessed as follows:\n",
        "            - First, all values should be in a range of [0,1]\n",
        "            - Subtract mean of 0.1307, and divide by std 0.3081\n",
        "    \"\"\"\n",
        "\n",
        "    def __init__(self, data_dir, transform=None):\n",
        "        self.data_dir = data_dir\n",
        "        self.filenames = [f for f in os.listdir(data_dir) if f.endswith('.png')]\n",
        "\n",
        "        if transform is None:\n",
        "            self.transform = transforms.Compose([\n",
        "                transforms.Grayscale(),        # 그레이스케일 변환\n",
        "                transforms.ToTensor(),         # PIL Image를 토치 텐서로 변환\n",
        "                transforms.Normalize((0.1307,), (0.3081,))  # 평균과 표준편차로 정규화\n",
        "            ])\n",
        "        else:\n",
        "            self.transform = transform\n",
        "\n",
        "    def __len__(self):\n",
        "        return len(self.filenames)\n",
        "\n",
        "    def __getitem__(self, idx):\n",
        "        img_path = os.path.join(self.data_dir, self.filenames[idx])\n",
        "        image = Image.open(img_path)\n",
        "        label = int(self.filenames[idx].split('_')[1].split('.')[0])\n",
        "\n",
        "        if self.transform:\n",
        "            image = self.transform(image)\n",
        "\n",
        "        return image, label\n"
      ],
      "metadata": {
        "id": "VgzL31MGhfbr"
      },
      "execution_count": 7,
      "outputs": []
    },
    {
      "cell_type": "code",
      "source": [
        "import os\n",
        "\n",
        "# 마운트된 Google 드라이브의 경로 출력\n",
        "print(\"Google 드라이브 경로:\", os.getcwd())\n"
      ],
      "metadata": {
        "colab": {
          "base_uri": "https://localhost:8080/"
        },
        "id": "s0zS_8IQFp5l",
        "outputId": "b7ca2428-6b21-43f0-af71-6ac2134f11b7"
      },
      "execution_count": null,
      "outputs": [
        {
          "output_type": "stream",
          "name": "stdout",
          "text": [
            "Google 드라이브 경로: /content\n"
          ]
        }
      ]
    },
    {
      "cell_type": "code",
      "source": [
        "import shutil\n",
        "\n",
        "# 압축 파일 경로\n",
        "zip_file_path = \"/content/drive/MyDrive/SeoulTech/인공신경망과 딥러닝/mnist-classification.zip\"\n",
        "# 압축을 해제할 디렉토리 경로\n",
        "extracted_dir_path = \"/content/mnist_data\"\n",
        "\n",
        "# 압축 해제\n",
        "shutil.unpack_archive(zip_file_path, extracted_dir_path)\n",
        "\n",
        "# 압축 해제된 데이터 디렉토리 내 파일 목록 확인\n",
        "print(\"압축 해제된 데이터 디렉토리 내 파일 목록:\", os.listdir(extracted_dir_path))\n"
      ],
      "metadata": {
        "colab": {
          "base_uri": "https://localhost:8080/"
        },
        "id": "aYv4km7UFZ2v",
        "outputId": "b3875281-2247-4d2b-cc73-2287eb46d49a"
      },
      "execution_count": null,
      "outputs": [
        {
          "output_type": "stream",
          "name": "stdout",
          "text": [
            "압축 해제된 데이터 디렉토리 내 파일 목록: ['mnist-classification']\n"
          ]
        }
      ]
    }
  ]
}